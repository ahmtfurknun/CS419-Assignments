{
 "cells": [
  {
   "cell_type": "code",
   "execution_count": 16,
   "metadata": {
    "id": "m5TYaYLWaGe0"
   },
   "outputs": [],
   "source": [
    "import cv2\n",
    "import numpy as np\n",
    "import matplotlib.pyplot as plt\n",
    "\n",
    "def image_boundaries(image):\n",
    "    \"\"\"\n",
    "    Calculate the boundaries of the white (255) pixels in a grayscale image.\n",
    "\n",
    "    Args:\n",
    "    image (numpy.ndarray): A grayscale image where the object of interest is in white (255).\n",
    "\n",
    "    Returns:\n",
    "    tuple: The leftmost, rightmost, topmost, and bottommost coordinates of the object.\n",
    "    \"\"\"\n",
    "    leftmost = image.shape[1]\n",
    "    rightmost = 0\n",
    "    topmost = image.shape[0]\n",
    "    bottommost = 0\n",
    "\n",
    "    for i in range(image.shape[0]):\n",
    "        for j in range(image.shape[1]):\n",
    "            if image[i, j] == 255:\n",
    "                leftmost = min(leftmost, j)\n",
    "                rightmost = max(rightmost, j)\n",
    "                topmost = min(topmost, i)\n",
    "                bottommost = max(bottommost, i)\n",
    "\n",
    "    return leftmost, rightmost, topmost, bottommost"
   ]
  },
  {
   "cell_type": "code",
   "execution_count": 6,
   "metadata": {
    "id": "oUQcfbYHZ2uy"
   },
   "outputs": [],
   "source": [
    "def hit_or_miss(image, kernel, left, right, top, bottom):\n",
    "    \"\"\"\n",
    "    Perform the hit-or-miss transformation on a grayscale image using a given kernel.\n",
    "\n",
    "    Args:\n",
    "    image (numpy.ndarray): The input grayscale image.\n",
    "    kernel (numpy.ndarray): The hit-or-miss kernel (structuring element).\n",
    "    left, right, top, bottom (int): Boundaries for processing the image.\n",
    "\n",
    "    Returns:\n",
    "    numpy.ndarray: The image after applying the hit-or-miss transformation.\n",
    "    \"\"\"\n",
    "    h, w = image.shape\n",
    "    k_h = kernel.shape[0]\n",
    "    kernel_mid = k_h // 2\n",
    "    result_image = image.copy()\n",
    "\n",
    "    for i in range(top - kernel_mid, min(bottom + kernel_mid, h-kernel_mid)):\n",
    "        for j in range(left - kernel_mid, min(right + kernel_mid, w-kernel_mid)):\n",
    "            is_valid = True\n",
    "            for k in range(k_h):\n",
    "                for l in range(k_h):\n",
    "                    if kernel[k][l] == 1 and image[i + k - kernel_mid][j + l - kernel_mid] != 255:\n",
    "                        is_valid = False\n",
    "                    elif kernel[k][l] == -1 and image[i + k - kernel_mid][j + l - kernel_mid] != 0:\n",
    "                        is_valid = False\n",
    "\n",
    "            if is_valid:\n",
    "                result_image[i][j] = 255\n",
    "            else:\n",
    "                result_image[i][j] = 0\n",
    "\n",
    "    return result_image"
   ]
  },
  {
   "cell_type": "code",
   "execution_count": 18,
   "metadata": {
    "colab": {
     "base_uri": "https://localhost:8080/",
     "height": 1000
    },
    "id": "EZVvC1MCiFsI",
    "outputId": "6def389a-a0af-4252-f30b-950da1953e60"
   },
   "outputs": [
    {
     "name": "stdout",
     "output_type": "stream",
     "text": [
      "B1\n",
      "B2\n",
      "B3\n",
      "B4\n",
      "Result\n"
     ]
    },
    {
     "data": {
      "text/plain": [
       "<matplotlib.image.AxesImage at 0x2adf86ed410>"
      ]
     },
     "execution_count": 18,
     "metadata": {},
     "output_type": "execute_result"
    },
    {
     "data": {
      "image/png": "[encoded data removed]",
      "text/plain": [
       "<Figure size 640x480 with 1 Axes>"
      ]
     },
     "metadata": {},
     "output_type": "display_data"
    }
   ],
   "source": [
    "def iterative_hit_or_miss(image, kernel):\n",
    "    \"\"\"\n",
    "    Apply hit-or-miss transformation iteratively until idempotence is reached.\n",
    "\n",
    "    Args:\n",
    "    image (numpy.ndarray): The input grayscale image.\n",
    "    kernel (numpy.ndarray): The hit-or-miss kernel (structuring element).\n",
    "\n",
    "    Returns:\n",
    "    numpy.ndarray: The image after iterative hit-or-miss transformation.\n",
    "    \"\"\"\n",
    "    idempotence = False\n",
    "    b1 = image.copy()\n",
    "    left, right, top, bottom = image_boundaries(image)\n",
    "    while not idempotence:\n",
    "        size = np.sum(b1 == 255)\n",
    "        output_image = hit_or_miss(b1, kernel, left, right, top, bottom)\n",
    "        b1 = b1 + output_image\n",
    "        newsize = np.sum(b1 == 255)\n",
    "        idempotence = (newsize - size == 0)\n",
    "    return b1\n",
    "\n",
    "image = cv2.imread('images/original.png', cv2.IMREAD_GRAYSCALE)\n",
    "\n",
    "# Define kernels for hit-or-miss transformation\n",
    "kernel_b1 = np.array(([1, 0, 0], [1, -1, 0], [1, 0, 0]), dtype=int)\n",
    "kernel_b2 = np.array(([1, 1, 1], [0, -1, 0], [0, 0, 0]), dtype=int)\n",
    "kernel_b3 = np.array(([0, 0, 1], [0, -1, 1], [0, 0, 1]), dtype=int)\n",
    "kernel_b4 = np.array(([0, 0, 0], [0, -1, 0], [1, 1, 1]), dtype=int)\n",
    "\n",
    "# Apply iterative hit-or-miss transformation with different kernels\n",
    "b1 = iterative_hit_or_miss(image, kernel_b1)\n",
    "print(\"B1\")\n",
    "plt.imshow(b1,cmap='gray')\n",
    "plt.show()\n",
    "b2 = iterative_hit_or_miss(image, kernel_b2)\n",
    "print(\"B2\")\n",
    "plt.imshow(b2,cmap='gray')\n",
    "plt.show()\n",
    "b3 = iterative_hit_or_miss(image, kernel_b3)\n",
    "print(\"B3\")\n",
    "plt.imshow(b3,cmap='gray')\n",
    "plt.show()\n",
    "b4 = iterative_hit_or_miss(image, kernel_b4)\n",
    "print(\"B4\")\n",
    "plt.imshow(b4,cmap='gray')\n",
    "plt.show()\n",
    "\n",
    "# Combine the results of the transformations\n",
    "result = b1 + b2 + b3 + b4\n",
    "print(\"Result\")\n",
    "plt.imshow(result,cmap='gray')\n",
    "plt.show()"
   ]
  }
 ],
 "metadata": {
  "colab": {
   "provenance": []
  },
  "kernelspec": {
   "display_name": "Python 3 (ipykernel)",
   "language": "python",
   "name": "python3"
  },
  "language_info": {
   "codemirror_mode": {
    "name": "ipython",
    "version": 3
   },
   "file_extension": ".py",
   "mimetype": "text/x-python",
   "name": "python",
   "nbconvert_exporter": "python",
   "pygments_lexer": "ipython3",
   "version": "3.11.5"
  }
 },
 "nbformat": 4,
 "nbformat_minor": 1
}
